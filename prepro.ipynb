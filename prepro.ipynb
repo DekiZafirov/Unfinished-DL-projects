{
 "cells": [
  {
   "cell_type": "code",
   "execution_count": null,
   "metadata": {},
   "outputs": [],
   "source": [
    "# Pre-processing scripts (this is only done once per dataset; not included in dataloader). Steps to take:\n",
    "# 1. Load in the audio (10 files for now) to memory\n",
    "# 2. Normalise all loaded audio files between (-1,1); required for pre-processing\n",
    "# 2. Save these files in a new location as numpy files (using numpy.save):\n",
    "#     - Data > raw > preprocessed > train(90%) / test(10%). You want to separate the files for overfitting purposes\n",
    "# 3. Load in CSV files (10) and save for each corresponding audio file (only need the f0 column)\n",
    "# 4. Remove silent frames (per 64 samples/blocks of 64) (Maybe do after data loader is complete)\n",
    "# "
   ]
  },
  {
   "cell_type": "code",
   "execution_count": 1,
   "metadata": {},
   "outputs": [],
   "source": [
    "from __future__ import division\n",
    "import librosa.display\n",
    "import librosa\n",
    "import matplotlib.pyplot as plt\n",
    "import IPython.display as ipd\n",
    "import csv\n",
    "import os\n",
    "import numpy as np \n",
    "from tqdm import tqdm\n",
    "\n",
    "import torch\n",
    "import torch.nn as nn\n",
    "import torch.nn.functional as F\n",
    "import glob\n",
    "from torch.utils.data import Dataset, DataLoader\n",
    "\n",
    "import pandas as pd\n",
    "import statistics\n",
    "import random\n",
    "\n",
    "random.seed(100)"
   ]
  },
  {
   "cell_type": "code",
   "execution_count": null,
   "metadata": {},
   "outputs": [],
   "source": []
  },
  {
   "cell_type": "code",
   "execution_count": 3,
   "metadata": {},
   "outputs": [],
   "source": [
    "# Load in audio files to memory (10 files for now)\n",
    "# \n",
    "\n",
    "index = 15 # choose the index number to load a file\n",
    "# Get file paths\n",
    "audio_path_sort = sorted(glob.glob('data/MDB-stem-synth/audio_stems/*'))\n",
    "audio_paths = audio_path_sort[:index] #only for specified number of files\n",
    "# to load all files just use^^ [:]\n",
    "# Load the audio data\n",
    "audio_data =[]\n",
    "for path in audio_paths:\n",
    "    audio, sr = librosa.load(path)\n",
    "    audio_data.append(audio)\n"
   ]
  },
  {
   "cell_type": "code",
   "execution_count": 4,
   "metadata": {},
   "outputs": [],
   "source": [
    "# Load in CSV files and save for each corresponding audio file\n",
    "csv_paths_sort = sorted(glob.glob('data/MDB-stem-synth/annotation_stems/*'))\n",
    "csv_paths = csv_paths_sort[:index]\n",
    "\n",
    "csv_data = []\n",
    "for path in csv_paths:\n",
    "    pitch_data = np.loadtxt(path, delimiter=',',unpack=True)\n",
    "    csv_data.append(pitch_data[1]) # retrieve only frequency data\n"
   ]
  },
  {
   "cell_type": "code",
   "execution_count": 5,
   "metadata": {},
   "outputs": [],
   "source": [
    "# Normalise all audio files between (-1,1)\n",
    "\n",
    "audio_norm = []\n",
    "for path in audio_data:\n",
    "    audio_dn = [(path / np.max(np.abs(path)))]\n",
    "    audio_norm.append(audio_dn)\n"
   ]
  },
  {
   "cell_type": "code",
   "execution_count": 13,
   "metadata": {},
   "outputs": [],
   "source": [
    "# Save most of the audio & csv files as numpy in train folder, then remaining files in test folder\n",
    "audio_length = np.array(audio_paths) #format this into an array representation\n",
    "\n",
    "idx = np.arange(audio_length.shape[0]) #create an array of indices corresponding to audio_paths indices\n",
    "np.random.shuffle(idx)\n",
    "\n",
    "num_files = int(len(idx)*0.9)\n",
    "train = idx[:num_files] #Get 90% of files for train\n",
    "train2 = idx[num_files:] #Get 10% of files (whatever is left in idx) \n",
    "num_files2 = len(audio_length) - num_files\n",
    "\n",
    "for i in range(num_files):\n",
    "    idx_files = train[i]\n",
    "    filename_path = os.path.basename(audio_paths[idx_files])\n",
    "    filename_train = os.path.join('data/Raw-data/Train/Audio', filename_path + '.npy')\n",
    "    \n",
    "    filename_path_csv = os.path.basename(csv_paths[idx_files])\n",
    "    filename_csv_train = os.path.join('data/Raw-data/Train/f0', filename_path_csv)\n",
    "    # use np.save()\n",
    "#     print('audio', filename_train)\n",
    "#     print('csv', filename_csv_train)\n",
    "    \n",
    "for i in range(num_files2): # for remaining, 10% of files\n",
    "    idx_files2 = train2[i]\n",
    "    filename_path2 = os.path.basename(audio_paths[idx_files2])\n",
    "    filename_train2 = os.path.join('data/Raw-data/Test/Audio', filename_path2 + '.npy')\n",
    "    \n",
    "    filename_path_csv = os.path.basename(csv_paths[idx_files2])\n",
    "    filename_csv_train = os.path.join('data/Raw-data/Test/f0', filename_path_csv)\n",
    "#     print('audio10', filename_train2)\n",
    "#     print('csv10', filename_csv_train)\n"
   ]
  },
  {
   "cell_type": "code",
   "execution_count": null,
   "metadata": {},
   "outputs": [],
   "source": []
  },
  {
   "cell_type": "code",
   "execution_count": null,
   "metadata": {},
   "outputs": [],
   "source": []
  },
  {
   "cell_type": "code",
   "execution_count": null,
   "metadata": {},
   "outputs": [],
   "source": []
  },
  {
   "cell_type": "code",
   "execution_count": null,
   "metadata": {},
   "outputs": [],
   "source": []
  },
  {
   "cell_type": "code",
   "execution_count": null,
   "metadata": {},
   "outputs": [],
   "source": []
  },
  {
   "cell_type": "code",
   "execution_count": null,
   "metadata": {},
   "outputs": [],
   "source": []
  },
  {
   "cell_type": "code",
   "execution_count": null,
   "metadata": {},
   "outputs": [],
   "source": []
  }
 ],
 "metadata": {
  "kernelspec": {
   "display_name": "Python 3",
   "language": "python",
   "name": "python3"
  },
  "language_info": {
   "codemirror_mode": {
    "name": "ipython",
    "version": 3
   },
   "file_extension": ".py",
   "mimetype": "text/x-python",
   "name": "python",
   "nbconvert_exporter": "python",
   "pygments_lexer": "ipython3",
   "version": "3.7.6"
  }
 },
 "nbformat": 4,
 "nbformat_minor": 4
}
