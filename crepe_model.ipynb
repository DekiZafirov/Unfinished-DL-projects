{
 "cells": [
  {
   "cell_type": "code",
   "execution_count": 2,
   "metadata": {},
   "outputs": [],
   "source": [
    "import torch\n",
    "import torch.nn as nn\n",
    "import torch.nn.functional as F\n",
    "\n",
    "import numpy as np "
   ]
  },
  {
   "cell_type": "code",
   "execution_count": 3,
   "metadata": {},
   "outputs": [],
   "source": [
    "# paramaters\n",
    "\n",
    "\n",
    "# set random seed\n",
    "torch.manual_seed(42)\n",
    "np.random.seed(42)"
   ]
  },
  {
   "cell_type": "code",
   "execution_count": null,
   "metadata": {},
   "outputs": [],
   "source": []
  },
  {
   "cell_type": "code",
   "execution_count": 6,
   "metadata": {},
   "outputs": [],
   "source": [
    "# CREPE MODEL\n",
    "\n",
    "# Input size\n",
    "B = 4\n",
    "C = 1024\n",
    "H = 1\n",
    "W = 1\n",
    "\n",
    "# Initialise input\n",
    "N = 1024 # raw audio sample\n",
    "z = torch.randn(B, N)\n",
    "z = z.view(B, N, 1, 1)\n",
    "\n",
    "# Create all layers\n",
    "conv1 = nn.Conv1d(1024, 128, 512, stride=4)\n",
    "conv2 = nn.Conv1d(128, 64, 64, stride=1)\n",
    "conv3 = nn.Conv1d(64, 32, 64, stride=1)\n",
    "conv4 = nn.Conv1d(32, 16, 64, stride=1)\n",
    "conv5 = nn.Conv1d(16, 8, 64, stride=1)\n",
    "conv6 = nn.Conv1d(8, 4, 64, stride=1)\n",
    "\n",
    "# Max pooling \n",
    "maxP = nn.MaxPool1d(2) # max pooling same for all layers\n",
    "\n",
    "# Batch Norm\n",
    "bn1 = nn.BatchNorm1d(1024)\n",
    "bn2 = nn.BatchNorm1d(128)\n",
    "bn3 = nn.BatchNorm1d(64)\n",
    "bn4 = nn.BatchNorm1d(32)\n",
    "bn5 = nn.BatchNorm1d(16)\n",
    "bn6 = nn.BatchNorm1d(8)\n",
    "\n",
    "drop1 = nn.Dropout(p=0.25) # dropout same for all layers\n",
    "\n",
    "# Pass through each layer\n",
    "y = maxP(bn1(conv1(z)))"
   ]
  },
  {
   "cell_type": "code",
   "execution_count": null,
   "metadata": {},
   "outputs": [],
   "source": []
  },
  {
   "cell_type": "code",
   "execution_count": null,
   "metadata": {},
   "outputs": [],
   "source": []
  }
 ],
 "metadata": {
  "kernelspec": {
   "display_name": "Python 3",
   "language": "python",
   "name": "python3"
  },
  "language_info": {
   "codemirror_mode": {
    "name": "ipython",
    "version": 3
   },
   "file_extension": ".py",
   "mimetype": "text/x-python",
   "name": "python",
   "nbconvert_exporter": "python",
   "pygments_lexer": "ipython3",
   "version": "3.6.8"
  }
 },
 "nbformat": 4,
 "nbformat_minor": 2
}
