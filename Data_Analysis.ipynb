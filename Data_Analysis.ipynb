{
 "cells": [
  {
   "cell_type": "code",
   "execution_count": 14,
   "metadata": {},
   "outputs": [],
   "source": [
    "from __future__ import division\n",
    "import librosa.display\n",
    "import librosa\n",
    "import matplotlib.pyplot as plt\n",
    "import IPython.display as ipd\n",
    "import csv\n",
    "import os\n",
    "import numpy as np \n",
    "from tqdm import tqdm\n",
    "\n",
    "import torch\n",
    "import torch.nn as nn\n",
    "import torch.nn.functional as F\n",
    "import glob\n",
    "from torch.utils.data import Dataset, DataLoader\n",
    "import pandas as pd\n",
    "import statistics"
   ]
  },
  {
   "cell_type": "code",
   "execution_count": 13,
   "metadata": {},
   "outputs": [],
   "source": [
    "# for i in tqdm(range(10)):\n",
    "#     print(i)\n"
   ]
  },
  {
   "cell_type": "code",
   "execution_count": 16,
   "metadata": {},
   "outputs": [
    {
     "name": "stdout",
     "output_type": "stream",
     "text": [
      "Length of each audio: [3780256, 3780256, 3780256, 4173391, 4173391]\n",
      "Length of each annotation file: [59067, 59067, 59067, 65210, 65210]\n"
     ]
    }
   ],
   "source": [
    "# get file paths\n",
    "\n",
    "audio_paths = sorted(glob.glob('data/MDB-stem-synth/audio_stems/*'))\n",
    "csv_paths = sorted(glob.glob('data/MDB-stem-synth/annotation_stems/*'))\n",
    "#print(audio_paths)\n",
    "\n",
    "#print('Nb files: ', len(audio_paths))\n",
    "\n",
    "audio_paths = audio_paths[:5] #only for specified number of files\n",
    "csv_paths = csv_paths[:5]\n",
    "\n",
    "# load in audio and get the length of each file\n",
    "audio_data = []\n",
    "audio_lenlist = []\n",
    "audio_metadata = {'min':[],'max':[], 'mean':[], 'std':[], 'silence':[]}\n",
    "\n",
    "for path in audio_paths:\n",
    "    #for i in tqdm(range(10)):\n",
    "    \n",
    "    audio, sr = librosa.load(path)\n",
    "    audio_data.extend(audio)\n",
    "\n",
    "    # Analysis\n",
    "    audio_len = [len(audio)] #store each file length in a list\n",
    "    audio_lenlist.extend(audio_len) #extend the list\n",
    "\n",
    "    audio_metadata['min'].append(min(audio))\n",
    "    audio_metadata['max'].append(max(audio))\n",
    "    audio_metadata['mean'].append(np.mean(audio))\n",
    "    audio_metadata['std'].append(np.std(audio))\n",
    "\n",
    "    audio_metadata['silence'].append(np.sum(audio == 0))\n",
    "    \n",
    "\n",
    "print('Length of each audio:', audio_lenlist)\n",
    "\n",
    "# load in csv files and get the length of each file, etc\n",
    "\n",
    "csv_data = []\n",
    "csv_lenlist = []\n",
    "for path in csv_paths:\n",
    "    timestep, pitch_data = np.loadtxt(path, delimiter=',',unpack=True)\n",
    "    csv_data.extend(pitch_data)\n",
    "    \n",
    "    # Analysis\n",
    "    csv_len = [len(pitch_data)]\n",
    "    csv_lenlist.extend(csv_len)\n",
    "\n",
    "# print('Min of csv data:', min(csv_lenlist))        \n",
    "# print('Max of csv data:', max(csv_lenlist))\n",
    "# print('Stdev of csv data:', statistics.stdev(csv_lenlist))\n",
    "# print('Mean of csv data:', statistics.mean(csv_lenlist))\n",
    "print('Length of each annotation file:', csv_lenlist)  "
   ]
  },
  {
   "cell_type": "code",
   "execution_count": 17,
   "metadata": {},
   "outputs": [
    {
     "data": {
      "text/plain": [
       "68"
      ]
     },
     "execution_count": 17,
     "metadata": {},
     "output_type": "execute_result"
    }
   ],
   "source": [
    "# Data + preprocess\n",
    "# Load in all data here\n",
    "# idx = 10\n",
    "# audio_paths = sorted(glob.glob('data/MDB-stem-synth/audio_stems/*'))\n",
    "# csv_paths = sorted(glob.glob('data/MDB-stem-synth/annotation_stems/*'))\n",
    "\n",
    "# # Make sure they are the same indexed files\n",
    "# # filename = os.path.basename(csvfiles[idx]).rstrip('.csv')\n",
    "# # audio_path = os.path.join('data/MDB-stem-synth/audio_stems/', filename + '.wav')\n",
    "# # csv_path = os.path.join('data/MDB-stem-synth/audio_stems/', filename + '.csv')\n",
    "\n",
    "# audio_data = []\n",
    "# for f in audio_paths:\n",
    "#      = os.path.basename(csvfiles[idx]).rstrip('.csv')\n",
    "#     audio_path = os.path.join('data/MDB-stem-synth/audio_stems/', filename + '.wav')\n",
    "\n",
    "# filename_audio = [os.path.basename(f).rstrip('.wav') for f in audiofiles]\n",
    "# filename_csv = [os.path.basename(f).rstrip('.csv') for f in csvfiles]\n",
    "# #print(filename_audio)\n",
    "# # Get the length of each audio and csv file then plot histogram\n"
   ]
  },
  {
   "cell_type": "code",
   "execution_count": null,
   "metadata": {},
   "outputs": [],
   "source": [
    "# helper fiunctions "
   ]
  },
  {
   "cell_type": "code",
   "execution_count": 9,
   "metadata": {},
   "outputs": [
    {
     "name": "stdout",
     "output_type": "stream",
     "text": [
      "min: [-0.1351861, -0.061689693, -0.1062607, -0.3340406, -0.21277691]\n",
      "max: [0.13749564, 0.09613072, 0.15142423, 0.24666685, 0.22890797]\n",
      "mean: -1.5530928e-05\n",
      "std: 0.02555462\n",
      "silence rate: 0.41616356529888177\n"
     ]
    },
    {
     "data": {
      "text/plain": [
       "[<matplotlib.lines.Line2D at 0x7fb0bfabbb38>]"
      ]
     },
     "execution_count": 9,
     "metadata": {},
     "output_type": "execute_result"
    },
    {
     "data": {
      "image/png": "[encoded data removed]",
      "text/plain": [
       "<Figure size 432x288 with 1 Axes>"
      ]
     },
     "metadata": {
      "needs_background": "light"
     },
     "output_type": "display_data"
    }
   ],
   "source": [
    "print('min:', (audio_metadata['min']))\n",
    "print('max:', (audio_metadata['max']))\n",
    "print('mean:', np.mean(audio_metadata['mean']))\n",
    "print('std:', np.std(audio_metadata['std']))\n",
    "print('silence rate:', np.sum(audio_metadata['silence'])/np.sum(audio_lenlist))\n",
    "\n",
    "plt.plot(audio_metadata['min'])\n",
    "plt.plot(audio_metadata['max'])"
   ]
  },
  {
   "cell_type": "code",
   "execution_count": 6,
   "metadata": {},
   "outputs": [
    {
     "data": {
      "text/plain": [
       "[<matplotlib.lines.Line2D at 0x7fb418997518>]"
      ]
     },
     "execution_count": 6,
     "metadata": {},
     "output_type": "execute_result"
    },
    {
     "data": {
      "image/png": "[encoded data removed]",
      "text/plain": [
       "<Figure size 432x288 with 1 Axes>"
      ]
     },
     "metadata": {
      "needs_background": "light"
     },
     "output_type": "display_data"
    }
   ],
   "source": [
    "plt.plot(audio_metadata['silence'])\n",
    "plt.plot(audio_lenlist)"
   ]
  },
  {
   "cell_type": "code",
   "execution_count": 11,
   "metadata": {},
   "outputs": [
    {
     "data": {
      "image/png": "[encoded data removed]",
      "text/plain": [
       "<Figure size 432x288 with 2 Axes>"
      ]
     },
     "metadata": {
      "needs_background": "light"
     },
     "output_type": "display_data"
    },
    {
     "data": {
      "image/png": "[encoded data removed]",
      "text/plain": [
       "<Figure size 432x288 with 1 Axes>"
      ]
     },
     "metadata": {
      "needs_background": "light"
     },
     "output_type": "display_data"
    },
    {
     "data": {
      "image/png": "[encoded data removed]",
      "text/plain": [
       "<Figure size 432x288 with 1 Axes>"
      ]
     },
     "metadata": {
      "needs_background": "light"
     },
     "output_type": "display_data"
    }
   ],
   "source": [
    "# Analysis\n",
    "# Audio - length of tracks, visualise and play audio, data range(min,max,mean,std), silence percentage\n",
    "\n",
    "#csv_length = [len(filename_csv) for f in filename_csv]\n",
    "fig, axs = plt.subplots(1, 2, sharey=True, tight_layout=True)\n",
    "axs[0].hist(audio_lenlist, bins=100)\n",
    "axs[1].hist(csv_lenlist, bins=100)\n",
    "plt.show()\n",
    "\n",
    "# Plot some audio files: 2 files of different lengths\n",
    "#print(audio_paths[1])\n",
    "path = audio_paths[1]\n",
    "raw_audio, sr = librosa.load(path)\n",
    "\n",
    "librosa.display.waveplot(raw_audio, sr=sr)\n",
    "plt.show()\n",
    "\n",
    "path2 = audio_paths[4]\n",
    "raw_audio2, sr = librosa.load(path2)\n",
    "\n",
    "librosa.display.waveplot(raw_audio2, sr=sr)\n",
    "plt.show()\n",
    "# csv - number of points (unique examples), check files exist of all csv"
   ]
  },
  {
   "cell_type": "code",
   "execution_count": null,
   "metadata": {},
   "outputs": [],
   "source": [
    "# preprocess\n",
    "\n",
    "# split dataset into train and test sets (90, 10)\n",
    "\n",
    "# audio - Normalize [-1,1], remove silence, save as .npy \n",
    "\n",
    "# csv - \n",
    "\n",
    "# save these files in the following format:"
   ]
  },
  {
   "cell_type": "markdown",
   "metadata": {},
   "source": [
    "Directory format \n",
    "\n",
    "- data/<name>\n",
    "    - train\n",
    "        - audio\n",
    "        - csv\n",
    "    - test\n",
    "        - audio\n",
    "        - csv \n"
   ]
  },
  {
   "cell_type": "code",
   "execution_count": null,
   "metadata": {},
   "outputs": [],
   "source": []
  },
  {
   "cell_type": "code",
   "execution_count": 21,
   "metadata": {},
   "outputs": [],
   "source": [
    "l = ['a','b','c','d']"
   ]
  },
  {
   "cell_type": "code",
   "execution_count": 23,
   "metadata": {},
   "outputs": [
    {
     "name": "stdout",
     "output_type": "stream",
     "text": [
      "a\n",
      "a\n",
      "b\n",
      "b\n",
      "c\n",
      "c\n",
      "d\n",
      "d\n"
     ]
    }
   ],
   "source": [
    "for i, item in enumerate(l):\n",
    "    print(l[i])\n",
    "    print(item)"
   ]
  },
  {
   "cell_type": "code",
   "execution_count": 33,
   "metadata": {},
   "outputs": [],
   "source": [
    "l = [1,2,3,4,5,6,7,8,9,10]\n",
    "c = 'a b c d e f g'.split()"
   ]
  },
  {
   "cell_type": "code",
   "execution_count": 27,
   "metadata": {},
   "outputs": [],
   "source": [
    "import random\n",
    "length = len(l)\n",
    "num_files = int(length*0.9) # 90% of files for train folder\n",
    "rand_output = random.sample(l, num_files)\n",
    "\n",
    "num_files2 = int(length*0.1) # 10% of files for test folder\n",
    "rand_output2 = random.sample(l, num_files2)"
   ]
  },
  {
   "cell_type": "code",
   "execution_count": 28,
   "metadata": {},
   "outputs": [
    {
     "data": {
      "text/plain": [
       "[7, 1, 9, 6, 2, 8, 4, 3, 10]"
      ]
     },
     "execution_count": 28,
     "metadata": {},
     "output_type": "execute_result"
    }
   ],
   "source": [
    "rand_output"
   ]
  },
  {
   "cell_type": "code",
   "execution_count": 30,
   "metadata": {},
   "outputs": [
    {
     "data": {
      "text/plain": [
       "[6]"
      ]
     },
     "execution_count": 30,
     "metadata": {},
     "output_type": "execute_result"
    }
   ],
   "source": [
    "rand_output2"
   ]
  },
  {
   "cell_type": "code",
   "execution_count": 37,
   "metadata": {},
   "outputs": [],
   "source": [
    "length = len(c)\n",
    "num_files = int(length*0.9) # 90% of files for train folder\n",
    "rand_output = random.sample(c, num_files)\n",
    "\n",
    "num_files2 = int(length*0.1) # 10% of files for test folder\n",
    "rand_output2 = random.sample(c, num_files2)"
   ]
  },
  {
   "cell_type": "code",
   "execution_count": 38,
   "metadata": {},
   "outputs": [
    {
     "data": {
      "text/plain": [
       "['f', 'g', 'c', 'd', 'b', 'a']"
      ]
     },
     "execution_count": 38,
     "metadata": {},
     "output_type": "execute_result"
    }
   ],
   "source": [
    "rand_output"
   ]
  },
  {
   "cell_type": "code",
   "execution_count": 39,
   "metadata": {},
   "outputs": [
    {
     "data": {
      "text/plain": [
       "[]"
      ]
     },
     "execution_count": 39,
     "metadata": {},
     "output_type": "execute_result"
    }
   ],
   "source": [
    "rand_output2"
   ]
  },
  {
   "cell_type": "code",
   "execution_count": 56,
   "metadata": {},
   "outputs": [
    {
     "name": "stdout",
     "output_type": "stream",
     "text": [
      "None\n"
     ]
    }
   ],
   "source": [
    "import numpy as np\n",
    "a = np.array([0,1,2,3,4]) \n",
    "b = np.array([5,6,7,8,9])\n",
    "\n",
    "indices = np.arange(a.shape[0])\n",
    "np.random.shuffle(indices)\n",
    "\n",
    "train_idx = indices[:4]\n",
    "test_idx = indices[4:]\n",
    "\n",
    "a_train = a[train_idx]\n",
    "b_train = b[train_idx]\n",
    "\n",
    "a_test = a[test_idx]\n",
    "b_test = b[test_idx]"
   ]
  },
  {
   "cell_type": "code",
   "execution_count": 55,
   "metadata": {},
   "outputs": [
    {
     "name": "stdout",
     "output_type": "stream",
     "text": [
      "[3] [2 0 1 4]\n",
      "[8] [7 5 6 9]\n"
     ]
    }
   ],
   "source": [
    "print(a_test, a_train)\n",
    "print(b_test, b_train)"
   ]
  },
  {
   "cell_type": "code",
   "execution_count": null,
   "metadata": {},
   "outputs": [],
   "source": []
  }
 ],
 "metadata": {
  "kernelspec": {
   "display_name": "Python 3",
   "language": "python",
   "name": "python3"
  },
  "language_info": {
   "codemirror_mode": {
    "name": "ipython",
    "version": 3
   },
   "file_extension": ".py",
   "mimetype": "text/x-python",
   "name": "python",
   "nbconvert_exporter": "python",
   "pygments_lexer": "ipython3",
   "version": "3.7.6"
  }
 },
 "nbformat": 4,
 "nbformat_minor": 4
}
