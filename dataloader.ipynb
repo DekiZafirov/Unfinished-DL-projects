{
 "cells": [
  {
   "cell_type": "code",
   "execution_count": 2,
   "metadata": {},
   "outputs": [],
   "source": [
    "import librosa.display\n",
    "import librosa\n",
    "import matplotlib.pyplot as plt\n",
    "import IPython.display as ipd\n",
    "import csv\n",
    "import os\n",
    "import numpy as np \n",
    "import torch\n",
    "import torch.nn as nn\n",
    "import torch.nn.functional as F\n",
    "import glob\n",
    "from torch.utils.data import Dataset, DataLoader\n",
    "import pandas as pd\n",
    "import random\n",
    "\n"
   ]
  },
  {
   "cell_type": "code",
   "execution_count": null,
   "metadata": {},
   "outputs": [],
   "source": [
    "# helper functions\n",
    "\n"
   ]
  },
  {
   "cell_type": "code",
   "execution_count": 125,
   "metadata": {},
   "outputs": [],
   "source": [
    "# audiofiles = glob.glob('data/MDB-stem-synth/audio_stems/*')\n",
    "# csvfiles = glob.glob('data/MDB-stem-synth/annotation_stems/*')\n",
    "\n",
    "# frame_n = 27\n",
    "# audio_name = audiofiles[11]\n",
    "# print(audio_name)\n",
    "# audio_file, sr= librosa.load(audio_name)\n",
    "\n",
    "# start_frame = (frame_n*64) - 64//2\n",
    "# end_model_sample = start_frame + 16 * 64\n",
    "# pitch_frame0f = np.arange(start_frame, end_model_sample) \n",
    "\n",
    "# pitch_data_frame0f = audio_file[start_frame:end_model_sample] \n",
    "# #librosa.display.waveplot(audio_file, sr=sr)\n",
    "# plt.plot(pitch_frame0f, pitch_data_frame0f)\n",
    "# print((end_model_sample))"
   ]
  },
  {
   "cell_type": "code",
   "execution_count": 124,
   "metadata": {},
   "outputs": [],
   "source": [
    "# filename = os.path.basename(csvfiles[12]).rstrip('.csv')\n",
    "# audio_path = os.path.join('data/MDB-stem-synth/audio_stems/', filename + '.wav')\n",
    "# csv_path = os.path.join('data/MDB-stem-synth/audio_stems/', filename + '.csv')"
   ]
  },
  {
   "cell_type": "code",
   "execution_count": 19,
   "metadata": {},
   "outputs": [],
   "source": [
    "# filename_audio = [os.path.basename(f).rstrip('.wav') for f in audiofiles]\n",
    "# filename_csv = [os.path.basename(f).rstrip('.csv') for f in csvfiles]"
   ]
  },
  {
   "cell_type": "code",
   "execution_count": null,
   "metadata": {},
   "outputs": [],
   "source": [
    "# Define function to show a raw audio waveform, play option, and sample frame with f0\n",
    "#def raw_audio_sample(audio_file, frame_n):\n"
   ]
  },
  {
   "cell_type": "code",
   "execution_count": 122,
   "metadata": {},
   "outputs": [],
   "source": [
    "# Dataset Class for the timesteps and corresponding f0 frequency/pitch value\n",
    "# csv files to be read in __init__ but retrieving the values will be done with __getitem__\n",
    "\n",
    "class FrequencyValueDataset(Dataset):\n",
    "    \"\"\"Frequency values from annotation file\"\"\"\n",
    "    \n",
    "    def __init__(self, root_dir):\n",
    "        \"\"\"\n",
    "        Args:\n",
    "            csv_file: Path to csv file with frequency values\n",
    "            root_dir: Directory with all the audio files\n",
    "            transform: method to rescale audio sample for a single frame\n",
    "        \"\"\"\n",
    "        \n",
    "        self.root_dir = root_dir\n",
    "        self.audio_files = glob.glob(root_dir+\"audio_stems/*\")\n",
    "        self.csv_files = glob.glob(root_dir+\"annotation_stems/*\")\n",
    "        \n",
    "    def __len__(self):\n",
    "        return len(self.csv_file) #return size/lenght of the annotation file\n",
    "    \n",
    "    \n",
    "    def __getitem__(self, idx): #this goes straight into the model\n",
    "        # take frame_n out, and make bounded random variable\n",
    "        # remove other parts and make into helper functions\n",
    "        # frame_n is randomly selected\n",
    "        \"\"\"idx is the file index, frame_n is the frame from the audio\"\"\"\n",
    "        frame_n =np.random.randint(32,16352) #this range is incorrect, change it to depend on start_frame?\n",
    "        \n",
    "        audio_name = self.audio_files[idx] #index that goes through the folder\n",
    "        audio_file, sr = librosa.load(audio_name) # change this too \n",
    "        \n",
    "        csv_name = self.csv_files[idx]\n",
    "        timestep, pitch_data = np.loadtxt(csv_name, delimiter=',',unpack=True)\n",
    "        \n",
    "        # for range of frames, frame_n to frame_n+16\n",
    "        # 16 is the number or frames per 1024 sample, 64 is the number of samples per frame\n",
    "        start_frame = (frame_n*64) - 64//2\n",
    "        end_model_sample = start_frame + 16 * 64\n",
    "        pitch_frame0f = np.arange(start_frame, end_model_sample) \n",
    "        pitch_data_frame0f = audio_file[start_frame:end_model_sample] \n",
    "\n",
    "        freqs = pitch_data[frame_n:frame_n + 16]\n",
    "        freq_plot = plt.plot(pitch_frame0f, pitch_data_frame0f)\n",
    "        \n",
    "        cents = 1200*(np.log2(freqs / 10))\n",
    "        f_hat = 10*(2**(cents / 1200))\n",
    "        f0 = print(\"f0:\", np.min(f_hat[np.nonzero(f_hat)]))\n",
    "        y_input = print('Input to model:', end_model_sample - start_frame)\n",
    "#         print('start frame', start_frame)\n",
    "#         print('end frame', end_model_sample)\n",
    "        output = {'Frequency plot': freq_plot, 'f0': f0, 'Model Input': y_input}\n",
    "        return output # don't want a dict output, but the actual 1024 audio samples, and f0 to input into the model\n",
    "\n",
    "   "
   ]
  },
  {
   "cell_type": "code",
   "execution_count": 25,
   "metadata": {},
   "outputs": [],
   "source": [
    "# class Customer():\n",
    "    \n",
    "#     def __init__(self):\n",
    "#         self.data = [1,2,3,4,5]\n",
    "        \n",
    "#     def __getitem__(self, idx):\n",
    "        \n",
    "#         return self.data[idx]"
   ]
  },
  {
   "cell_type": "code",
   "execution_count": 90,
   "metadata": {},
   "outputs": [],
   "source": [
    "# c = Customer()\n",
    "# #instatiate data loader and pass in idx\n",
    "# frame = np.random.randint(32,992)\n",
    "# frame"
   ]
  },
  {
   "cell_type": "code",
   "execution_count": 123,
   "metadata": {},
   "outputs": [
    {
     "name": "stdout",
     "output_type": "stream",
     "text": [
      "f0: 55.16270299999999\n",
      "Input to model: 1024\n"
     ]
    },
    {
     "data": {
      "image/png": "[encoded data removed]",
      "text/plain": [
       "<Figure size 432x288 with 1 Axes>"
      ]
     },
     "metadata": {
      "needs_background": "light"
     },
     "output_type": "display_data"
    }
   ],
   "source": [
    "# Instantiate class and output a sample audio file and corresponding f0\n",
    "freq_test = FrequencyValueDataset(root_dir='data/MDB-stem-synth/')\n",
    "output = freq_test.__getitem__(11) # get_item takes idx value which corresponds to a file\n",
    "\n"
   ]
  },
  {
   "cell_type": "code",
   "execution_count": null,
   "metadata": {},
   "outputs": [],
   "source": [
    "# Transform/rescale part to get the raw audio in terms of a single frame (?)\n"
   ]
  },
  {
   "cell_type": "code",
   "execution_count": null,
   "metadata": {},
   "outputs": [],
   "source": []
  }
 ],
 "metadata": {
  "kernelspec": {
   "display_name": "Python 3",
   "language": "python",
   "name": "python3"
  },
  "language_info": {
   "codemirror_mode": {
    "name": "ipython",
    "version": 3
   },
   "file_extension": ".py",
   "mimetype": "text/x-python",
   "name": "python",
   "nbconvert_exporter": "python",
   "pygments_lexer": "ipython3",
   "version": "3.7.0"
  }
 },
 "nbformat": 4,
 "nbformat_minor": 2
}
